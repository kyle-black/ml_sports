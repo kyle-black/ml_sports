{
 "cells": [
  {
   "cell_type": "code",
   "execution_count": 8,
   "id": "c33e0179-87b2-4bcc-8ab1-0f12b03f1e17",
   "metadata": {},
   "outputs": [],
   "source": [
    "import sqlite3\n",
    "import pandas as pd"
   ]
  },
  {
   "cell_type": "code",
   "execution_count": 9,
   "id": "a380b66e-75c4-4d79-93cb-41bd467c31a7",
   "metadata": {},
   "outputs": [],
   "source": [
    "conn = sqlite3.connect('mlb_games.db')"
   ]
  },
  {
   "cell_type": "code",
   "execution_count": 10,
   "id": "0f273b66-6e59-42f0-8d46-198edab29a42",
   "metadata": {},
   "outputs": [],
   "source": [
    "sql_query = '''\n",
    "SELECT\n",
    "    games.id AS game_id,\n",
    "    games.game_date AS game_date,\n",
    "\tgames.home_is_winner,\n",
    "    \n",
    "    home_team_batting.\"Tm\" AS home_tm,\n",
    "    home_team_batting.\"#Bat\" AS home_bat,\n",
    "    home_team_batting.\"BatAge\" AS home_bat_age,\n",
    "\thome_team_batting.\"R/G\" AS home_bat_R_G,\n",
    "\thome_team_batting.\"G\" AS home_bat_G,\n",
    "\thome_team_batting.\"PA\" AS home_bat_PA,\n",
    "\thome_team_batting.\"AB\" AS home_bat_AB,\n",
    "\thome_team_batting.\"R\" AS home_bat_R,\n",
    "\thome_team_batting.\"H\" AS home_bat_H,\n",
    "\thome_team_batting.\"2B\" AS home_bat_2B,\n",
    "\thome_team_batting.\"3B\" AS home_bat_3B,\n",
    "\thome_team_batting.\"HR\" AS home_bat_HR,\n",
    "\thome_team_batting.\"RBI\" AS home_bat_RBI,\n",
    "\thome_team_batting.\"SB\" AS home_bat_SB,\n",
    "\thome_team_batting.\"CS\" AS home_bat_CS,\n",
    "\thome_team_batting.\"BB\" AS home_bat_BB,\n",
    "\thome_team_batting.\"SO\" AS home_bat_SO,\n",
    "\thome_team_batting.\"BA\" AS home_bat_BA,\n",
    "\thome_team_batting.\"OBP\" AS home_bat_OBP,\n",
    "\thome_team_batting.\"SLG\" AS home_bat_SLG,\n",
    "\thome_team_batting.\"OPS\" AS home_bat_OPS,\n",
    "\thome_team_batting.\"OPS+\" AS home_bat_OPS_plus,\n",
    "\thome_team_batting.\"TB\" AS home_bat_TB,\n",
    "\thome_team_batting.\"GDP\" AS home_bat_GDP,\n",
    "\thome_team_batting.\"HBP\" AS home_bat_HBP,\n",
    "\thome_team_batting.\"SH\" AS home_bat_SH,\n",
    "\thome_team_batting.\"SF\" AS home_bat_SF,\n",
    "\thome_team_batting.\"IBB\" AS home_bat_IBB,\n",
    "\thome_team_batting.\"LOB\" AS home_bat_LOB\n",
    "\t\n",
    "\t\n",
    "\t\n",
    "\t\n",
    "\t\n",
    "\n",
    "FROM games\n",
    "JOIN team_batting AS home_team_batting ON games.home_team = home_team_batting.Tm AND games.season = home_team_batting.season;\n",
    "\n",
    "'''"
   ]
  },
  {
   "cell_type": "code",
   "execution_count": 11,
   "id": "2b90ff7e-5dbc-4059-a92f-109e68d11c5c",
   "metadata": {},
   "outputs": [],
   "source": [
    "df = pd.read_sql_query(sql_query, conn)"
   ]
  },
  {
   "cell_type": "code",
   "execution_count": 12,
   "id": "6d15064c-84c1-47bd-aaa2-96c11966faab",
   "metadata": {},
   "outputs": [
    {
     "data": {
      "text/html": [
       "<div>\n",
       "<style scoped>\n",
       "    .dataframe tbody tr th:only-of-type {\n",
       "        vertical-align: middle;\n",
       "    }\n",
       "\n",
       "    .dataframe tbody tr th {\n",
       "        vertical-align: top;\n",
       "    }\n",
       "\n",
       "    .dataframe thead th {\n",
       "        text-align: right;\n",
       "    }\n",
       "</style>\n",
       "<table border=\"1\" class=\"dataframe\">\n",
       "  <thead>\n",
       "    <tr style=\"text-align: right;\">\n",
       "      <th></th>\n",
       "      <th>game_id</th>\n",
       "      <th>game_date</th>\n",
       "      <th>home_is_winner</th>\n",
       "      <th>home_tm</th>\n",
       "      <th>home_bat</th>\n",
       "      <th>home_bat_age</th>\n",
       "      <th>home_bat_R_G</th>\n",
       "      <th>home_bat_G</th>\n",
       "      <th>home_bat_PA</th>\n",
       "      <th>home_bat_AB</th>\n",
       "      <th>...</th>\n",
       "      <th>home_bat_SLG</th>\n",
       "      <th>home_bat_OPS</th>\n",
       "      <th>home_bat_OPS_plus</th>\n",
       "      <th>home_bat_TB</th>\n",
       "      <th>home_bat_GDP</th>\n",
       "      <th>home_bat_HBP</th>\n",
       "      <th>home_bat_SH</th>\n",
       "      <th>home_bat_SF</th>\n",
       "      <th>home_bat_IBB</th>\n",
       "      <th>home_bat_LOB</th>\n",
       "    </tr>\n",
       "  </thead>\n",
       "  <tbody>\n",
       "  </tbody>\n",
       "</table>\n",
       "<p>0 rows × 32 columns</p>\n",
       "</div>"
      ],
      "text/plain": [
       "Empty DataFrame\n",
       "Columns: [game_id, game_date, home_is_winner, home_tm, home_bat, home_bat_age, home_bat_R_G, home_bat_G, home_bat_PA, home_bat_AB, home_bat_R, home_bat_H, home_bat_2B, home_bat_3B, home_bat_HR, home_bat_RBI, home_bat_SB, home_bat_CS, home_bat_BB, home_bat_SO, home_bat_BA, home_bat_OBP, home_bat_SLG, home_bat_OPS, home_bat_OPS_plus, home_bat_TB, home_bat_GDP, home_bat_HBP, home_bat_SH, home_bat_SF, home_bat_IBB, home_bat_LOB]\n",
       "Index: []\n",
       "\n",
       "[0 rows x 32 columns]"
      ]
     },
     "execution_count": 12,
     "metadata": {},
     "output_type": "execute_result"
    }
   ],
   "source": [
    "df"
   ]
  },
  {
   "cell_type": "code",
   "execution_count": null,
   "id": "b4730777-4863-4c11-afee-3230f648acf9",
   "metadata": {},
   "outputs": [],
   "source": []
  }
 ],
 "metadata": {
  "kernelspec": {
   "display_name": "Python 3 (ipykernel)",
   "language": "python",
   "name": "python3"
  },
  "language_info": {
   "codemirror_mode": {
    "name": "ipython",
    "version": 3
   },
   "file_extension": ".py",
   "mimetype": "text/x-python",
   "name": "python",
   "nbconvert_exporter": "python",
   "pygments_lexer": "ipython3",
   "version": "3.9.13"
  }
 },
 "nbformat": 4,
 "nbformat_minor": 5
}
