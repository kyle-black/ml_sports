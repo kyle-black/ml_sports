{
 "cells": [
  {
   "cell_type": "code",
   "execution_count": 1,
   "id": "3c93466c-3a29-445b-a5ea-49523cc7c1be",
   "metadata": {},
   "outputs": [],
   "source": [
    "import pandas as pd"
   ]
  },
  {
   "cell_type": "code",
   "execution_count": 2,
   "id": "0d759d76-4d5c-42fb-9af5-1564092b78df",
   "metadata": {},
   "outputs": [],
   "source": [
    "df =pd.read_csv('combine_game_runs_opp.csv')"
   ]
  },
  {
   "cell_type": "code",
   "execution_count": 3,
   "id": "6cc3c5de-8a0f-4616-8b4e-5f785382af37",
   "metadata": {},
   "outputs": [
    {
     "data": {
      "text/plain": [
       "Index(['Unnamed: 0', 'game_id', 'home_team', 'away_team', 'commence_time',\n",
       "       'game_date', 'draftkings_home', 'draftkings_away', 'pointsbetus_home',\n",
       "       'pointsbetus_away', 'williamhill_us_home', 'williamhill_us_away',\n",
       "       'betus_home', 'betus_away', 'mybookieag_home', 'mybookieag_away',\n",
       "       'barstool_home', 'barstool_away', 'betmgm_home', 'betmgm_away',\n",
       "       'fanduel_home', 'fanduel_away', 'lowvig_home', 'lowvig_away',\n",
       "       'betonlineag_home', 'betonlineag_away', 'superbook_home',\n",
       "       'superbook_away', 'wynnbet_home', 'wynnbet_away', 'bovada_home',\n",
       "       'bovada_away', 'betrivers_home', 'betrivers_away', 'twinspires_home',\n",
       "       'twinspires_away', 'unibet_us_home', 'unibet_us_away', 'unibet_home',\n",
       "       'unibet_away', 'gtbets_home', 'gtbets_away', 'intertops_home',\n",
       "       'intertops_away', 'sugarhouse_home', 'sugarhouse_away', 'foxbet_home',\n",
       "       'foxbet_away', 'circasports_home', 'circasports_away',\n",
       "       'home_Current_win_pct', 'home_3_win_pct', 'home_1_win_pct',\n",
       "       'home_Home_win_pct', 'home_Away_win_pct', 'home_prev_win_pct',\n",
       "       'home_Rolling_10D_win', 'home_Rolling_30D_win', 'away_Current_win_pct',\n",
       "       'away_3_win_pct', 'away_1_win_pct', 'away_Home_win_pct',\n",
       "       'away_Away_win_pct', 'away_prev_win_pct', 'away_Rolling_10D_win',\n",
       "       'away_Rolling_30D_win', 'home_r_Current', 'home_r_3', 'home_r_1',\n",
       "       'home_r_Home', 'home_r_Away', 'home_r_prev', 'Rolling_10D_r_home',\n",
       "       'Rolling_30D_r_home', 'away_r_Current', 'away_r_3', 'away_r_1',\n",
       "       'away_r_Home', 'away_r_Away', 'away_r_prev', 'Rolling_10D_r_away',\n",
       "       'Rolling_30D_r_away', 'home_opp_Current', 'home_opp_3', 'home_opp_1',\n",
       "       'home_opp_Home', 'home_opp_Away', 'home_opp_prev',\n",
       "       'Rolling_10D_opp_home', 'Rolling_30D_opp_home', 'away_opp_Current',\n",
       "       'away_opp_3', 'away_opp_1', 'away_opp_Home', 'away_opp_Away',\n",
       "       'away_opp_prev', 'Rolling_10D_opp_away', 'Rolling_30D_opp_away'],\n",
       "      dtype='object')"
      ]
     },
     "execution_count": 3,
     "metadata": {},
     "output_type": "execute_result"
    }
   ],
   "source": [
    "df.columns"
   ]
  },
  {
   "cell_type": "code",
   "execution_count": 4,
   "id": "ad08c39b-098f-45e7-a92a-688fd72e03a9",
   "metadata": {},
   "outputs": [
    {
     "name": "stdout",
     "output_type": "stream",
     "text": [
      "Unnamed: 0\n",
      "game_id\n",
      "home_team\n",
      "away_team\n",
      "commence_time\n",
      "game_date\n",
      "draftkings_home\n",
      "draftkings_away\n",
      "pointsbetus_home\n",
      "pointsbetus_away\n",
      "williamhill_us_home\n",
      "williamhill_us_away\n",
      "betus_home\n",
      "betus_away\n",
      "mybookieag_home\n",
      "mybookieag_away\n",
      "barstool_home\n",
      "barstool_away\n",
      "betmgm_home\n",
      "betmgm_away\n",
      "fanduel_home\n",
      "fanduel_away\n",
      "lowvig_home\n",
      "lowvig_away\n",
      "betonlineag_home\n",
      "betonlineag_away\n",
      "superbook_home\n",
      "superbook_away\n",
      "wynnbet_home\n",
      "wynnbet_away\n",
      "bovada_home\n",
      "bovada_away\n",
      "betrivers_home\n",
      "betrivers_away\n",
      "twinspires_home\n",
      "twinspires_away\n",
      "unibet_us_home\n",
      "unibet_us_away\n",
      "unibet_home\n",
      "unibet_away\n",
      "gtbets_home\n",
      "gtbets_away\n",
      "intertops_home\n",
      "intertops_away\n",
      "sugarhouse_home\n",
      "sugarhouse_away\n",
      "foxbet_home\n",
      "foxbet_away\n",
      "circasports_home\n",
      "circasports_away\n",
      "home_Current_win_pct\n",
      "home_3_win_pct\n",
      "home_1_win_pct\n",
      "home_Home_win_pct\n",
      "home_Away_win_pct\n",
      "home_prev_win_pct\n",
      "home_Rolling_10D_win\n",
      "home_Rolling_30D_win\n",
      "away_Current_win_pct\n",
      "away_3_win_pct\n",
      "away_1_win_pct\n",
      "away_Home_win_pct\n",
      "away_Away_win_pct\n",
      "away_prev_win_pct\n",
      "away_Rolling_10D_win\n",
      "away_Rolling_30D_win\n",
      "home_r_Current\n",
      "home_r_3\n",
      "home_r_1\n",
      "home_r_Home\n",
      "home_r_Away\n",
      "home_r_prev\n",
      "Rolling_10D_r_home\n",
      "Rolling_30D_r_home\n",
      "away_r_Current\n",
      "away_r_3\n",
      "away_r_1\n",
      "away_r_Home\n",
      "away_r_Away\n",
      "away_r_prev\n",
      "Rolling_10D_r_away\n",
      "Rolling_30D_r_away\n",
      "home_opp_Current\n",
      "home_opp_3\n",
      "home_opp_1\n",
      "home_opp_Home\n",
      "home_opp_Away\n",
      "home_opp_prev\n",
      "Rolling_10D_opp_home\n",
      "Rolling_30D_opp_home\n",
      "away_opp_Current\n",
      "away_opp_3\n",
      "away_opp_1\n",
      "away_opp_Home\n",
      "away_opp_Away\n",
      "away_opp_prev\n",
      "Rolling_10D_opp_away\n",
      "Rolling_30D_opp_away\n"
     ]
    }
   ],
   "source": [
    "for i in df.columns:\n",
    "    print(i)"
   ]
  },
  {
   "cell_type": "code",
   "execution_count": null,
   "id": "f325c734-bc52-4398-8122-335765754119",
   "metadata": {},
   "outputs": [],
   "source": []
  }
 ],
 "metadata": {
  "kernelspec": {
   "display_name": "Python 3 (ipykernel)",
   "language": "python",
   "name": "python3"
  },
  "language_info": {
   "codemirror_mode": {
    "name": "ipython",
    "version": 3
   },
   "file_extension": ".py",
   "mimetype": "text/x-python",
   "name": "python",
   "nbconvert_exporter": "python",
   "pygments_lexer": "ipython3",
   "version": "3.9.13"
  }
 },
 "nbformat": 4,
 "nbformat_minor": 5
}
