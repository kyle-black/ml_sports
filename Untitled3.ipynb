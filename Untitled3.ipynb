{
 "cells": [
  {
   "cell_type": "code",
   "execution_count": 1,
   "id": "9e30cca9-15a5-4988-b7ae-b57c0b4f226b",
   "metadata": {},
   "outputs": [],
   "source": [
    "import sqlite3\n",
    "import pandas as pd"
   ]
  },
  {
   "cell_type": "code",
   "execution_count": 2,
   "id": "47a613fe-4ed0-4426-aecc-bbc21edba307",
   "metadata": {},
   "outputs": [],
   "source": [
    "conn = sqlite3.connect('mlb_games.db')\n",
    "\n",
    "# Define the SQL query\n",
    "sql_query = '''\n",
    "SELECT * FROM book_odds JOIN past_games WHERE (book_odds.home_team = past_games.home_team) AND (book_odds.commence_time = past_games.commence_time);\n",
    "'''"
   ]
  },
  {
   "cell_type": "code",
   "execution_count": 3,
   "id": "2e22399b-eb76-4945-ade8-34ca38a37100",
   "metadata": {},
   "outputs": [],
   "source": [
    "df = pd.read_sql_query(sql_query, conn)"
   ]
  },
  {
   "cell_type": "code",
   "execution_count": 4,
   "id": "238687e0-5e74-40a0-a909-9556645cd98c",
   "metadata": {},
   "outputs": [],
   "source": [
    "def parse_odds(odds_string):\n",
    "    if pd.isna(odds_string):\n",
    "        return None\n",
    "    return [int(x) for x in odds_string.split(',')]\n",
    "\n",
    "odds_columns = ['lowvig', 'betonlineag', 'unibet', 'draftkings', 'pointsbetus', 'gtbets', 'mybookieag', 'bovada', 'fanduel', 'betfair', 'intertops', 'williamhill_us', 'betrivers', 'betmgm', 'caesars', 'sugarhouse', 'foxbet', 'barstool', 'twinspires', 'betus', 'wynnbet', 'circasports', 'superbook', 'unibet_us']\n",
    "df[odds_columns] = df[odds_columns].applymap(parse_odds)\n"
   ]
  },
  {
   "cell_type": "code",
   "execution_count": 7,
   "id": "4ddfc575-36ca-4c65-9c07-db6c341aad3b",
   "metadata": {},
   "outputs": [
    {
     "data": {
      "text/plain": [
       "-133"
      ]
     },
     "execution_count": 7,
     "metadata": {},
     "output_type": "execute_result"
    }
   ],
   "source": [
    "df['lowvig'][0][0]"
   ]
  },
  {
   "cell_type": "code",
   "execution_count": null,
   "id": "a76bb0c5-8e80-45a2-adf5-c5736e6ded8a",
   "metadata": {},
   "outputs": [],
   "source": []
  }
 ],
 "metadata": {
  "kernelspec": {
   "display_name": "Python 3 (ipykernel)",
   "language": "python",
   "name": "python3"
  },
  "language_info": {
   "codemirror_mode": {
    "name": "ipython",
    "version": 3
   },
   "file_extension": ".py",
   "mimetype": "text/x-python",
   "name": "python",
   "nbconvert_exporter": "python",
   "pygments_lexer": "ipython3",
   "version": "3.9.13"
  }
 },
 "nbformat": 4,
 "nbformat_minor": 5
}
