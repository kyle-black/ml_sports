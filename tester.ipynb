{
 "cells": [
  {
   "cell_type": "code",
   "execution_count": 1,
   "id": "7a134487-07cf-4ff9-b8e8-1086ec01c0b4",
   "metadata": {},
   "outputs": [],
   "source": [
    "import pandas as pd"
   ]
  },
  {
   "cell_type": "code",
   "execution_count": null,
   "id": "e53f9bbb-9c18-4b93-b358-7a9dc05dfde2",
   "metadata": {},
   "outputs": [],
   "source": []
  },
  {
   "cell_type": "code",
   "execution_count": null,
   "id": "01ccb654-62b9-44f6-8c7f-e67c687630a5",
   "metadata": {},
   "outputs": [],
   "source": [
    "\n"
   ]
  },
  {
   "cell_type": "code",
   "execution_count": 2,
   "id": "cb22708f-972f-4713-a33d-39627fede801",
   "metadata": {},
   "outputs": [],
   "source": [
    "\n",
    "bankrolls ={}\n",
    "for i in range(1,100):\n",
    "    #df =pd.read_csv(f'bayesian/sigmoid_calibration/8Features/predictions/sigmoid_test_data_{i}.csv')\n",
    "    df =pd.read_csv(f'bayesian/sigmoid_calibration/predictions/test_predictions_{i}.csv')\n",
    "    df['homediff'] = df['model_home_win_prob'] - df['home_implied_prob']\n",
    "    df['awaydiff'] = df['model_away_win_prob'] - df['away_implied_prob']\n",
    "    df.drop_duplicates(subset='id', keep='first', inplace=True)\n",
    "\n",
    "    df['bethome'] = ((df['homediff'] > 0.01))\n",
    "    df['betaway'] = ((df['awaydiff'] >  0.01))\n",
    "\n",
    "    def calculate_bets(df):\n",
    "        # Initialize bankroll\n",
    "        bankroll = 2500\n",
    "        df['game_won'] = 0\n",
    "        df['game_lost'] = 0\n",
    "        \n",
    "        df['win'] =0\n",
    "        df['loss'] =0\n",
    "        # New columns for bet_amount, bet_win, and updated bankroll\n",
    "        df['bet_amount'] = 0\n",
    "        df['bet_win'] = 0\n",
    "        df['bankroll'] = 0\n",
    "        \n",
    "        win = 0\n",
    "        loss = 0\n",
    "        df['win'] = 0\n",
    "        df['loss'] = 0\n",
    "        \n",
    "        \n",
    "        \n",
    "    \n",
    "        for idx, row in df.iterrows():\n",
    "            bet = 0\n",
    "            bet_win = 0\n",
    "            game_won =0\n",
    "            game_lost =0\n",
    "            # Calculate bet amount as 5% of current bankroll\n",
    "            \n",
    "            \n",
    "            if idx ==0:\n",
    "                bet = bankroll * 0.05\n",
    "                segment_br = bankroll\n",
    "            elif idx % 5 ==0:\n",
    "                bet = bankroll * 0.05\n",
    "                segment_br = bankroll\n",
    "            else:\n",
    "                bet = segment_br * 0.05\n",
    "            \n",
    "\n",
    "            \n",
    "            if row['bethome']:\n",
    "                if row['home_is_winner'] == 1:\n",
    "                    win_multiplier = (100 / abs(row['home_odds'])) if row['home_odds'] < 0 else (row['home_odds'] / 100)\n",
    "                    bet_win = bet * win_multiplier\n",
    "                    bankroll += bet_win  # Add the winnings to the bankroll\n",
    "                    win+=1\n",
    "                    game_won =1\n",
    "                    game_lost =0\n",
    "                else:\n",
    "                    bankroll -= bet  # Decrease the bankroll by the bet amount\n",
    "                    bet_win = 0\n",
    "                    loss+=1\n",
    "                    game_won =0\n",
    "                    game_lost =1\n",
    "    \n",
    "            elif row['betaway']:\n",
    "                if row['home_is_winner'] == 0:\n",
    "                    win_multiplier = (100 / abs(row['away_odds'])) if row['away_odds'] < 0 else (row['away_odds'] / 100)\n",
    "                    bet_win = bet * win_multiplier\n",
    "                    bankroll += bet_win  # Add the winnings to the bankroll\n",
    "                    win+=1\n",
    "                    game_won=1\n",
    "                    game_lost =0\n",
    "                else:\n",
    "                    bankroll -= bet  # Decrease the bankroll by the bet amount\n",
    "                    bet_win = 0\n",
    "                    loss+=1\n",
    "                    game_won=0\n",
    "                    game_lost =1\n",
    "            else: bet =0 \n",
    "            # Update the DataFrame\n",
    "            \n",
    "            df.at[idx, 'bet_amount'] = bet\n",
    "            df.at[idx, 'net_bet_win'] = bet_win\n",
    "            df.at[idx, 'bankroll'] = bankroll\n",
    "            df.at[idx,'game_won']= game_won\n",
    "            df.at[idx,'game_lost']= game_lost\n",
    "            \n",
    "            df.at[idx, 'total_won_games'] = win\n",
    "            df.at[idx, 'total_lost_games'] = loss\n",
    "    \n",
    "        \n",
    "        if df['bankroll'].iloc[-1] >1000:\n",
    "            df.to_csv(f'bayesian/sigmoid_calibration/12features/10pct/win/test_set{i}.csv')\n",
    "            bankrolls[i] =df['bankroll'].iloc[-1]\n",
    "        else:\n",
    "            df.to_csv(f'bayesian/sigmoid_calibration/12features/10pct/lost/test_set{i}.csv')\n",
    "            bankrolls[i] =df['bankroll'].iloc[-1]\n",
    "        return df, bankrolls\n",
    "    df, bankrolls = calculate_bets(df)\n"
   ]
  },
  {
   "cell_type": "code",
   "execution_count": null,
   "id": "9a059303-1db0-40db-9d91-f7c8244a0340",
   "metadata": {},
   "outputs": [],
   "source": []
  },
  {
   "cell_type": "code",
   "execution_count": null,
   "id": "afe53338-374b-4b39-a77a-3d8024d4ac8a",
   "metadata": {},
   "outputs": [],
   "source": []
  },
  {
   "cell_type": "code",
   "execution_count": 3,
   "id": "a7164fae-6403-42dc-a5b5-c6b3e1b603e6",
   "metadata": {},
   "outputs": [],
   "source": [
    "df = pd.DataFrame.from_dict(bankrolls,orient='index', columns=['bankroll_totals'])"
   ]
  },
  {
   "cell_type": "code",
   "execution_count": 4,
   "id": "b9ce6ea2-7c97-4a11-9bf5-6a18bf39380f",
   "metadata": {},
   "outputs": [],
   "source": [
    "idx_min = df.idxmin()"
   ]
  },
  {
   "cell_type": "code",
   "execution_count": 5,
   "id": "fa3d2d8c-a44e-4dcb-b617-e7f6c73eb0ea",
   "metadata": {},
   "outputs": [
    {
     "data": {
      "text/html": [
       "<div>\n",
       "<style scoped>\n",
       "    .dataframe tbody tr th:only-of-type {\n",
       "        vertical-align: middle;\n",
       "    }\n",
       "\n",
       "    .dataframe tbody tr th {\n",
       "        vertical-align: top;\n",
       "    }\n",
       "\n",
       "    .dataframe thead th {\n",
       "        text-align: right;\n",
       "    }\n",
       "</style>\n",
       "<table border=\"1\" class=\"dataframe\">\n",
       "  <thead>\n",
       "    <tr style=\"text-align: right;\">\n",
       "      <th></th>\n",
       "      <th>bankroll_totals</th>\n",
       "    </tr>\n",
       "  </thead>\n",
       "  <tbody>\n",
       "    <tr>\n",
       "      <th>1</th>\n",
       "      <td>1008.261471</td>\n",
       "    </tr>\n",
       "    <tr>\n",
       "      <th>2</th>\n",
       "      <td>5328.243980</td>\n",
       "    </tr>\n",
       "    <tr>\n",
       "      <th>3</th>\n",
       "      <td>2261.360461</td>\n",
       "    </tr>\n",
       "    <tr>\n",
       "      <th>4</th>\n",
       "      <td>573.515603</td>\n",
       "    </tr>\n",
       "    <tr>\n",
       "      <th>5</th>\n",
       "      <td>550.933407</td>\n",
       "    </tr>\n",
       "    <tr>\n",
       "      <th>...</th>\n",
       "      <td>...</td>\n",
       "    </tr>\n",
       "    <tr>\n",
       "      <th>95</th>\n",
       "      <td>213.220736</td>\n",
       "    </tr>\n",
       "    <tr>\n",
       "      <th>96</th>\n",
       "      <td>687.987078</td>\n",
       "    </tr>\n",
       "    <tr>\n",
       "      <th>97</th>\n",
       "      <td>321.931241</td>\n",
       "    </tr>\n",
       "    <tr>\n",
       "      <th>98</th>\n",
       "      <td>219.695700</td>\n",
       "    </tr>\n",
       "    <tr>\n",
       "      <th>99</th>\n",
       "      <td>811.695016</td>\n",
       "    </tr>\n",
       "  </tbody>\n",
       "</table>\n",
       "<p>99 rows × 1 columns</p>\n",
       "</div>"
      ],
      "text/plain": [
       "    bankroll_totals\n",
       "1       1008.261471\n",
       "2       5328.243980\n",
       "3       2261.360461\n",
       "4        573.515603\n",
       "5        550.933407\n",
       "..              ...\n",
       "95       213.220736\n",
       "96       687.987078\n",
       "97       321.931241\n",
       "98       219.695700\n",
       "99       811.695016\n",
       "\n",
       "[99 rows x 1 columns]"
      ]
     },
     "execution_count": 5,
     "metadata": {},
     "output_type": "execute_result"
    }
   ],
   "source": [
    "df"
   ]
  },
  {
   "cell_type": "code",
   "execution_count": 6,
   "id": "19d3c6da-a67e-41b2-8acd-5ec0ba5668f7",
   "metadata": {},
   "outputs": [
    {
     "data": {
      "text/plain": [
       "bankroll_totals    58\n",
       "dtype: int64"
      ]
     },
     "execution_count": 6,
     "metadata": {},
     "output_type": "execute_result"
    }
   ],
   "source": [
    "idx_min"
   ]
  },
  {
   "cell_type": "code",
   "execution_count": 7,
   "id": "2bf7a507-6183-4af1-b75f-46b88382bce5",
   "metadata": {},
   "outputs": [
    {
     "data": {
      "text/html": [
       "<div>\n",
       "<style scoped>\n",
       "    .dataframe tbody tr th:only-of-type {\n",
       "        vertical-align: middle;\n",
       "    }\n",
       "\n",
       "    .dataframe tbody tr th {\n",
       "        vertical-align: top;\n",
       "    }\n",
       "\n",
       "    .dataframe thead th {\n",
       "        text-align: right;\n",
       "    }\n",
       "</style>\n",
       "<table border=\"1\" class=\"dataframe\">\n",
       "  <thead>\n",
       "    <tr style=\"text-align: right;\">\n",
       "      <th></th>\n",
       "      <th>bankroll_totals</th>\n",
       "    </tr>\n",
       "  </thead>\n",
       "  <tbody>\n",
       "    <tr>\n",
       "      <th>1</th>\n",
       "      <td>1008.261471</td>\n",
       "    </tr>\n",
       "    <tr>\n",
       "      <th>2</th>\n",
       "      <td>5328.243980</td>\n",
       "    </tr>\n",
       "    <tr>\n",
       "      <th>3</th>\n",
       "      <td>2261.360461</td>\n",
       "    </tr>\n",
       "    <tr>\n",
       "      <th>4</th>\n",
       "      <td>573.515603</td>\n",
       "    </tr>\n",
       "    <tr>\n",
       "      <th>5</th>\n",
       "      <td>550.933407</td>\n",
       "    </tr>\n",
       "    <tr>\n",
       "      <th>...</th>\n",
       "      <td>...</td>\n",
       "    </tr>\n",
       "    <tr>\n",
       "      <th>95</th>\n",
       "      <td>213.220736</td>\n",
       "    </tr>\n",
       "    <tr>\n",
       "      <th>96</th>\n",
       "      <td>687.987078</td>\n",
       "    </tr>\n",
       "    <tr>\n",
       "      <th>97</th>\n",
       "      <td>321.931241</td>\n",
       "    </tr>\n",
       "    <tr>\n",
       "      <th>98</th>\n",
       "      <td>219.695700</td>\n",
       "    </tr>\n",
       "    <tr>\n",
       "      <th>99</th>\n",
       "      <td>811.695016</td>\n",
       "    </tr>\n",
       "  </tbody>\n",
       "</table>\n",
       "<p>99 rows × 1 columns</p>\n",
       "</div>"
      ],
      "text/plain": [
       "    bankroll_totals\n",
       "1       1008.261471\n",
       "2       5328.243980\n",
       "3       2261.360461\n",
       "4        573.515603\n",
       "5        550.933407\n",
       "..              ...\n",
       "95       213.220736\n",
       "96       687.987078\n",
       "97       321.931241\n",
       "98       219.695700\n",
       "99       811.695016\n",
       "\n",
       "[99 rows x 1 columns]"
      ]
     },
     "execution_count": 7,
     "metadata": {},
     "output_type": "execute_result"
    }
   ],
   "source": [
    "df"
   ]
  },
  {
   "cell_type": "code",
   "execution_count": 8,
   "id": "0e062049-9768-40cd-ba47-17765d7b0df3",
   "metadata": {},
   "outputs": [],
   "source": [
    "df.to_csv('df_best.csv')"
   ]
  },
  {
   "cell_type": "code",
   "execution_count": 11,
   "id": "38215642-3e20-441f-9e5e-2a2361f57c04",
   "metadata": {},
   "outputs": [
    {
     "data": {
      "text/html": [
       "<div>\n",
       "<style scoped>\n",
       "    .dataframe tbody tr th:only-of-type {\n",
       "        vertical-align: middle;\n",
       "    }\n",
       "\n",
       "    .dataframe tbody tr th {\n",
       "        vertical-align: top;\n",
       "    }\n",
       "\n",
       "    .dataframe thead th {\n",
       "        text-align: right;\n",
       "    }\n",
       "</style>\n",
       "<table border=\"1\" class=\"dataframe\">\n",
       "  <thead>\n",
       "    <tr style=\"text-align: right;\">\n",
       "      <th></th>\n",
       "      <th>bankroll_totals</th>\n",
       "    </tr>\n",
       "  </thead>\n",
       "  <tbody>\n",
       "    <tr>\n",
       "      <th>count</th>\n",
       "      <td>99.000000</td>\n",
       "    </tr>\n",
       "    <tr>\n",
       "      <th>mean</th>\n",
       "      <td>1796.949439</td>\n",
       "    </tr>\n",
       "    <tr>\n",
       "      <th>std</th>\n",
       "      <td>2015.126864</td>\n",
       "    </tr>\n",
       "    <tr>\n",
       "      <th>min</th>\n",
       "      <td>62.367222</td>\n",
       "    </tr>\n",
       "    <tr>\n",
       "      <th>25%</th>\n",
       "      <td>472.059389</td>\n",
       "    </tr>\n",
       "    <tr>\n",
       "      <th>50%</th>\n",
       "      <td>1060.028952</td>\n",
       "    </tr>\n",
       "    <tr>\n",
       "      <th>75%</th>\n",
       "      <td>2471.037731</td>\n",
       "    </tr>\n",
       "    <tr>\n",
       "      <th>max</th>\n",
       "      <td>12843.824548</td>\n",
       "    </tr>\n",
       "  </tbody>\n",
       "</table>\n",
       "</div>"
      ],
      "text/plain": [
       "       bankroll_totals\n",
       "count        99.000000\n",
       "mean       1796.949439\n",
       "std        2015.126864\n",
       "min          62.367222\n",
       "25%         472.059389\n",
       "50%        1060.028952\n",
       "75%        2471.037731\n",
       "max       12843.824548"
      ]
     },
     "execution_count": 11,
     "metadata": {},
     "output_type": "execute_result"
    }
   ],
   "source": [
    "df.describe()"
   ]
  },
  {
   "cell_type": "code",
   "execution_count": 9,
   "id": "e0b36227-e0b5-46ec-b415-b06a9043a0d6",
   "metadata": {},
   "outputs": [
    {
     "data": {
      "text/plain": [
       "bankroll_totals    1060.028952\n",
       "dtype: float64"
      ]
     },
     "execution_count": 9,
     "metadata": {},
     "output_type": "execute_result"
    }
   ],
   "source": [
    "df[['bankroll_totals']].median()"
   ]
  },
  {
   "cell_type": "code",
   "execution_count": 10,
   "id": "83e6a7b8-af3d-4277-9cc1-5153810a37a0",
   "metadata": {},
   "outputs": [],
   "source": [
    "df.to_csv('bayesian/sigmoid_calibration/12features/10pct/Bayesian_SigmoidCalibration_10percent.csv')"
   ]
  }
 ],
 "metadata": {
  "kernelspec": {
   "display_name": "Python 3 (ipykernel)",
   "language": "python",
   "name": "python3"
  },
  "language_info": {
   "codemirror_mode": {
    "name": "ipython",
    "version": 3
   },
   "file_extension": ".py",
   "mimetype": "text/x-python",
   "name": "python",
   "nbconvert_exporter": "python",
   "pygments_lexer": "ipython3",
   "version": "3.9.13"
  }
 },
 "nbformat": 4,
 "nbformat_minor": 5
}
